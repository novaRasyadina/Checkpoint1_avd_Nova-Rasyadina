{
  "nbformat": 4,
  "nbformat_minor": 0,
  "metadata": {
    "colab": {
      "provenance": [],
      "authorship_tag": "ABX9TyO2AWisU720/2wFojUZqL3r",
      "include_colab_link": true
    },
    "kernelspec": {
      "name": "python3",
      "display_name": "Python 3"
    },
    "language_info": {
      "name": "python"
    }
  },
  "cells": [
    {
      "cell_type": "markdown",
      "metadata": {
        "id": "view-in-github",
        "colab_type": "text"
      },
      "source": [
        "<a href=\"https://colab.research.google.com/github/novaRasyadina/Checkpoint1_avd_Nova-Rasyadina/blob/main/AVD_Nova_Rasyadina_2409116092.ipynb\" target=\"_parent\"><img src=\"https://colab.research.google.com/assets/colab-badge.svg\" alt=\"Open In Colab\"/></a>"
      ]
    },
    {
      "cell_type": "markdown",
      "source": [
        "# **Study Kasus : Analisis Kebiasaan Bermain game Dengan Capaian Akademik Murid**"
      ],
      "metadata": {
        "id": "dZIT-F6Vl8xQ"
      }
    },
    {
      "cell_type": "markdown",
      "source": [
        "# **BUSINESS UNDERSTANDING**"
      ],
      "metadata": {
        "id": "IyfVz82Jm5LP"
      }
    },
    {
      "cell_type": "markdown",
      "source": [
        "# Business Objective"
      ],
      "metadata": {
        "id": "v1HinfgmpdiD"
      }
    },
    {
      "cell_type": "markdown",
      "source": [
        "analisis ini bertujuan mengidentifikasi apakah terdapat korelasi antara kebiasaan bermain game dan prestasi akademik siswa. Dengan memahami pola bermain game dan dampaknya terhadap nilai akademik, hasil analisis ini diharapkan dapat membantu siswa, orang tua, dan sekolah dalam mengelola kebiasaan bermain game secara lebih bijak, sehingga prestasi akademik tetap optimal disamping bermain game."
      ],
      "metadata": {
        "id": "aSV2q1HhpyMj"
      }
    },
    {
      "cell_type": "markdown",
      "source": [
        "# Assess Situation"
      ],
      "metadata": {
        "id": "zP47E-vrrRAH"
      }
    },
    {
      "cell_type": "markdown",
      "source": [
        "Analisis ini melibatkan siswa, orang tua, guru, dan game. memastikan data yang dikumpulkan akurat serta mempertimbangkan faktor lain yang memengaruhi prestasi akademik. Data yang digunakan meliputi nilai akademik siswa dan informasi kebiasaan bermain game, seperti durasi, pendapatan orang tua, pendidikan orangtua dan waktu bermain. Metode analisis statistik akan digunakan untuk mengukur korelasi antara pola bermain game dan prestasi akademik siswa."
      ],
      "metadata": {
        "id": "agSmq5RHrZ9c"
      }
    },
    {
      "cell_type": "markdown",
      "source": [
        "# Data Mining Goals"
      ],
      "metadata": {
        "id": "4kag43AqsO1M"
      }
    },
    {
      "cell_type": "markdown",
      "source": [
        "Untuk mengetahui pola hubungan antara kebiasaan bermain game dan prestasi akademik siswa. Selain itu, analisis ini akan mengelompokkan siswa berdasarkan pola bermain mereka guna memberikan rekomendasi yang dapat membantu mereka mengatur waktu bermain dan belajar dengan lebih efektif."
      ],
      "metadata": {
        "id": "dizHn8KIsVd2"
      }
    },
    {
      "cell_type": "markdown",
      "source": [
        "# Project Plan"
      ],
      "metadata": {
        "id": "GP3XrJIptBNg"
      }
    },
    {
      "cell_type": "markdown",
      "source": [
        "Analisis ini akan dimulai dengan pengumpulan data melalui survei dan data akademik siswa. Setelah data terkumpul data dianalisis pada tahap tahap selanjutnya dengan beberapa tahap analisis untuk mendapatkan hasil dari beberapa informasi data bermain game siswa dan korelasinya terhap nilai akademik."
      ],
      "metadata": {
        "id": "jAvA_kRLtG4a"
      }
    },
    {
      "cell_type": "markdown",
      "source": [
        "# Tampilan Data Keseluruhan"
      ],
      "metadata": {
        "id": "kqpIt-XiumLn"
      }
    },
    {
      "cell_type": "code",
      "source": [
        "from google.colab import drive\n",
        "drive.mount('/content/drive')\n",
        "df = pd.read_csv(\"/content/sample_data/gameandgrade.csv\")"
      ],
      "metadata": {
        "colab": {
          "base_uri": "https://localhost:8080/"
        },
        "id": "lsm7wbMbdVb5",
        "outputId": "24672d13-cf4f-4b71-93b6-45e89cf591d4"
      },
      "execution_count": 82,
      "outputs": [
        {
          "output_type": "stream",
          "name": "stdout",
          "text": [
            "Mounted at /content/drive\n"
          ]
        }
      ]
    },
    {
      "cell_type": "code",
      "execution_count": 83,
      "metadata": {
        "id": "x_w9VbuMvnNy"
      },
      "outputs": [],
      "source": [
        "import pandas as pd"
      ]
    },
    {
      "cell_type": "code",
      "source": [
        "file_path = \"/content/sample_data/gameandgrade.csv\""
      ],
      "metadata": {
        "id": "0KBTqqED7mm5"
      },
      "execution_count": 84,
      "outputs": []
    },
    {
      "cell_type": "code",
      "source": [
        "df=pd.read_csv(\"/content/sample_data/gameandgrade.csv\")\n",
        "\n",
        "print(df)"
      ],
      "metadata": {
        "colab": {
          "base_uri": "https://localhost:8080/"
        },
        "id": "rfYO2ofN8A9s",
        "outputId": "5f852f4f-24e3-4066-a988-faa3905db1a7"
      },
      "execution_count": 85,
      "outputs": [
        {
          "output_type": "stream",
          "name": "stdout",
          "text": [
            "     Sex  School Code  Playing Years  Playing Often  Playing Hours  \\\n",
            "0      0            1              1              2              1   \n",
            "1      1            1              1              3              1   \n",
            "2      0            1              0              0              0   \n",
            "3      0            1              3              5              1   \n",
            "4      1            1              1              1              2   \n",
            "..   ...          ...            ...            ...            ...   \n",
            "765    1            2              1              2              4   \n",
            "766    1            9              2              5              1   \n",
            "767    0            4              2              1              3   \n",
            "768    0            4              2              1              3   \n",
            "769    0            9              2              5              2   \n",
            "\n",
            "     Playing Games  Parent Revenue  Father Education  Mother Education Grade  \n",
            "0                1               4                 4                 5  77.5  \n",
            "1                1               1                 3                 3    83  \n",
            "2                0               1                 3                 3    80  \n",
            "3                1               2                 2                 3    45  \n",
            "4                1               1                 3                 4    85  \n",
            "..             ...             ...               ...               ...   ...  \n",
            "765              1               1                 3                 3  67.5  \n",
            "766              1               2                 5                 5   100  \n",
            "767              1               4                 5                 4    75  \n",
            "768              1               2                 4                 4    77  \n",
            "769              1               0                 5                 5   100  \n",
            "\n",
            "[770 rows x 10 columns]\n"
          ]
        }
      ]
    },
    {
      "cell_type": "markdown",
      "source": [
        "# Tampilan 5 Baris Pertama Data"
      ],
      "metadata": {
        "id": "VJJgM8z-vArl"
      }
    },
    {
      "source": [
        "df.head()"
      ],
      "cell_type": "code",
      "metadata": {
        "colab": {
          "base_uri": "https://localhost:8080/",
          "height": 206
        },
        "id": "OOvir18XappI",
        "outputId": "3778864a-4073-47a9-b823-25f35984b592"
      },
      "execution_count": 87,
      "outputs": [
        {
          "output_type": "execute_result",
          "data": {
            "text/plain": [
              "   Sex  School Code  Playing Years  Playing Often  Playing Hours  \\\n",
              "0    0            1              1              2              1   \n",
              "1    1            1              1              3              1   \n",
              "2    0            1              0              0              0   \n",
              "3    0            1              3              5              1   \n",
              "4    1            1              1              1              2   \n",
              "\n",
              "   Playing Games  Parent Revenue  Father Education  Mother Education Grade  \n",
              "0              1               4                 4                 5  77.5  \n",
              "1              1               1                 3                 3    83  \n",
              "2              0               1                 3                 3    80  \n",
              "3              1               2                 2                 3    45  \n",
              "4              1               1                 3                 4    85  "
            ],
            "text/html": [
              "\n",
              "  <div id=\"df-5637d502-aa8e-485f-b144-e9a5516e59c7\" class=\"colab-df-container\">\n",
              "    <div>\n",
              "<style scoped>\n",
              "    .dataframe tbody tr th:only-of-type {\n",
              "        vertical-align: middle;\n",
              "    }\n",
              "\n",
              "    .dataframe tbody tr th {\n",
              "        vertical-align: top;\n",
              "    }\n",
              "\n",
              "    .dataframe thead th {\n",
              "        text-align: right;\n",
              "    }\n",
              "</style>\n",
              "<table border=\"1\" class=\"dataframe\">\n",
              "  <thead>\n",
              "    <tr style=\"text-align: right;\">\n",
              "      <th></th>\n",
              "      <th>Sex</th>\n",
              "      <th>School Code</th>\n",
              "      <th>Playing Years</th>\n",
              "      <th>Playing Often</th>\n",
              "      <th>Playing Hours</th>\n",
              "      <th>Playing Games</th>\n",
              "      <th>Parent Revenue</th>\n",
              "      <th>Father Education</th>\n",
              "      <th>Mother Education</th>\n",
              "      <th>Grade</th>\n",
              "    </tr>\n",
              "  </thead>\n",
              "  <tbody>\n",
              "    <tr>\n",
              "      <th>0</th>\n",
              "      <td>0</td>\n",
              "      <td>1</td>\n",
              "      <td>1</td>\n",
              "      <td>2</td>\n",
              "      <td>1</td>\n",
              "      <td>1</td>\n",
              "      <td>4</td>\n",
              "      <td>4</td>\n",
              "      <td>5</td>\n",
              "      <td>77.5</td>\n",
              "    </tr>\n",
              "    <tr>\n",
              "      <th>1</th>\n",
              "      <td>1</td>\n",
              "      <td>1</td>\n",
              "      <td>1</td>\n",
              "      <td>3</td>\n",
              "      <td>1</td>\n",
              "      <td>1</td>\n",
              "      <td>1</td>\n",
              "      <td>3</td>\n",
              "      <td>3</td>\n",
              "      <td>83</td>\n",
              "    </tr>\n",
              "    <tr>\n",
              "      <th>2</th>\n",
              "      <td>0</td>\n",
              "      <td>1</td>\n",
              "      <td>0</td>\n",
              "      <td>0</td>\n",
              "      <td>0</td>\n",
              "      <td>0</td>\n",
              "      <td>1</td>\n",
              "      <td>3</td>\n",
              "      <td>3</td>\n",
              "      <td>80</td>\n",
              "    </tr>\n",
              "    <tr>\n",
              "      <th>3</th>\n",
              "      <td>0</td>\n",
              "      <td>1</td>\n",
              "      <td>3</td>\n",
              "      <td>5</td>\n",
              "      <td>1</td>\n",
              "      <td>1</td>\n",
              "      <td>2</td>\n",
              "      <td>2</td>\n",
              "      <td>3</td>\n",
              "      <td>45</td>\n",
              "    </tr>\n",
              "    <tr>\n",
              "      <th>4</th>\n",
              "      <td>1</td>\n",
              "      <td>1</td>\n",
              "      <td>1</td>\n",
              "      <td>1</td>\n",
              "      <td>2</td>\n",
              "      <td>1</td>\n",
              "      <td>1</td>\n",
              "      <td>3</td>\n",
              "      <td>4</td>\n",
              "      <td>85</td>\n",
              "    </tr>\n",
              "  </tbody>\n",
              "</table>\n",
              "</div>\n",
              "    <div class=\"colab-df-buttons\">\n",
              "\n",
              "  <div class=\"colab-df-container\">\n",
              "    <button class=\"colab-df-convert\" onclick=\"convertToInteractive('df-5637d502-aa8e-485f-b144-e9a5516e59c7')\"\n",
              "            title=\"Convert this dataframe to an interactive table.\"\n",
              "            style=\"display:none;\">\n",
              "\n",
              "  <svg xmlns=\"http://www.w3.org/2000/svg\" height=\"24px\" viewBox=\"0 -960 960 960\">\n",
              "    <path d=\"M120-120v-720h720v720H120Zm60-500h600v-160H180v160Zm220 220h160v-160H400v160Zm0 220h160v-160H400v160ZM180-400h160v-160H180v160Zm440 0h160v-160H620v160ZM180-180h160v-160H180v160Zm440 0h160v-160H620v160Z\"/>\n",
              "  </svg>\n",
              "    </button>\n",
              "\n",
              "  <style>\n",
              "    .colab-df-container {\n",
              "      display:flex;\n",
              "      gap: 12px;\n",
              "    }\n",
              "\n",
              "    .colab-df-convert {\n",
              "      background-color: #E8F0FE;\n",
              "      border: none;\n",
              "      border-radius: 50%;\n",
              "      cursor: pointer;\n",
              "      display: none;\n",
              "      fill: #1967D2;\n",
              "      height: 32px;\n",
              "      padding: 0 0 0 0;\n",
              "      width: 32px;\n",
              "    }\n",
              "\n",
              "    .colab-df-convert:hover {\n",
              "      background-color: #E2EBFA;\n",
              "      box-shadow: 0px 1px 2px rgba(60, 64, 67, 0.3), 0px 1px 3px 1px rgba(60, 64, 67, 0.15);\n",
              "      fill: #174EA6;\n",
              "    }\n",
              "\n",
              "    .colab-df-buttons div {\n",
              "      margin-bottom: 4px;\n",
              "    }\n",
              "\n",
              "    [theme=dark] .colab-df-convert {\n",
              "      background-color: #3B4455;\n",
              "      fill: #D2E3FC;\n",
              "    }\n",
              "\n",
              "    [theme=dark] .colab-df-convert:hover {\n",
              "      background-color: #434B5C;\n",
              "      box-shadow: 0px 1px 3px 1px rgba(0, 0, 0, 0.15);\n",
              "      filter: drop-shadow(0px 1px 2px rgba(0, 0, 0, 0.3));\n",
              "      fill: #FFFFFF;\n",
              "    }\n",
              "  </style>\n",
              "\n",
              "    <script>\n",
              "      const buttonEl =\n",
              "        document.querySelector('#df-5637d502-aa8e-485f-b144-e9a5516e59c7 button.colab-df-convert');\n",
              "      buttonEl.style.display =\n",
              "        google.colab.kernel.accessAllowed ? 'block' : 'none';\n",
              "\n",
              "      async function convertToInteractive(key) {\n",
              "        const element = document.querySelector('#df-5637d502-aa8e-485f-b144-e9a5516e59c7');\n",
              "        const dataTable =\n",
              "          await google.colab.kernel.invokeFunction('convertToInteractive',\n",
              "                                                    [key], {});\n",
              "        if (!dataTable) return;\n",
              "\n",
              "        const docLinkHtml = 'Like what you see? Visit the ' +\n",
              "          '<a target=\"_blank\" href=https://colab.research.google.com/notebooks/data_table.ipynb>data table notebook</a>'\n",
              "          + ' to learn more about interactive tables.';\n",
              "        element.innerHTML = '';\n",
              "        dataTable['output_type'] = 'display_data';\n",
              "        await google.colab.output.renderOutput(dataTable, element);\n",
              "        const docLink = document.createElement('div');\n",
              "        docLink.innerHTML = docLinkHtml;\n",
              "        element.appendChild(docLink);\n",
              "      }\n",
              "    </script>\n",
              "  </div>\n",
              "\n",
              "\n",
              "<div id=\"df-e116cff5-2f18-4fcb-9d16-9866c3063eb2\">\n",
              "  <button class=\"colab-df-quickchart\" onclick=\"quickchart('df-e116cff5-2f18-4fcb-9d16-9866c3063eb2')\"\n",
              "            title=\"Suggest charts\"\n",
              "            style=\"display:none;\">\n",
              "\n",
              "<svg xmlns=\"http://www.w3.org/2000/svg\" height=\"24px\"viewBox=\"0 0 24 24\"\n",
              "     width=\"24px\">\n",
              "    <g>\n",
              "        <path d=\"M19 3H5c-1.1 0-2 .9-2 2v14c0 1.1.9 2 2 2h14c1.1 0 2-.9 2-2V5c0-1.1-.9-2-2-2zM9 17H7v-7h2v7zm4 0h-2V7h2v10zm4 0h-2v-4h2v4z\"/>\n",
              "    </g>\n",
              "</svg>\n",
              "  </button>\n",
              "\n",
              "<style>\n",
              "  .colab-df-quickchart {\n",
              "      --bg-color: #E8F0FE;\n",
              "      --fill-color: #1967D2;\n",
              "      --hover-bg-color: #E2EBFA;\n",
              "      --hover-fill-color: #174EA6;\n",
              "      --disabled-fill-color: #AAA;\n",
              "      --disabled-bg-color: #DDD;\n",
              "  }\n",
              "\n",
              "  [theme=dark] .colab-df-quickchart {\n",
              "      --bg-color: #3B4455;\n",
              "      --fill-color: #D2E3FC;\n",
              "      --hover-bg-color: #434B5C;\n",
              "      --hover-fill-color: #FFFFFF;\n",
              "      --disabled-bg-color: #3B4455;\n",
              "      --disabled-fill-color: #666;\n",
              "  }\n",
              "\n",
              "  .colab-df-quickchart {\n",
              "    background-color: var(--bg-color);\n",
              "    border: none;\n",
              "    border-radius: 50%;\n",
              "    cursor: pointer;\n",
              "    display: none;\n",
              "    fill: var(--fill-color);\n",
              "    height: 32px;\n",
              "    padding: 0;\n",
              "    width: 32px;\n",
              "  }\n",
              "\n",
              "  .colab-df-quickchart:hover {\n",
              "    background-color: var(--hover-bg-color);\n",
              "    box-shadow: 0 1px 2px rgba(60, 64, 67, 0.3), 0 1px 3px 1px rgba(60, 64, 67, 0.15);\n",
              "    fill: var(--button-hover-fill-color);\n",
              "  }\n",
              "\n",
              "  .colab-df-quickchart-complete:disabled,\n",
              "  .colab-df-quickchart-complete:disabled:hover {\n",
              "    background-color: var(--disabled-bg-color);\n",
              "    fill: var(--disabled-fill-color);\n",
              "    box-shadow: none;\n",
              "  }\n",
              "\n",
              "  .colab-df-spinner {\n",
              "    border: 2px solid var(--fill-color);\n",
              "    border-color: transparent;\n",
              "    border-bottom-color: var(--fill-color);\n",
              "    animation:\n",
              "      spin 1s steps(1) infinite;\n",
              "  }\n",
              "\n",
              "  @keyframes spin {\n",
              "    0% {\n",
              "      border-color: transparent;\n",
              "      border-bottom-color: var(--fill-color);\n",
              "      border-left-color: var(--fill-color);\n",
              "    }\n",
              "    20% {\n",
              "      border-color: transparent;\n",
              "      border-left-color: var(--fill-color);\n",
              "      border-top-color: var(--fill-color);\n",
              "    }\n",
              "    30% {\n",
              "      border-color: transparent;\n",
              "      border-left-color: var(--fill-color);\n",
              "      border-top-color: var(--fill-color);\n",
              "      border-right-color: var(--fill-color);\n",
              "    }\n",
              "    40% {\n",
              "      border-color: transparent;\n",
              "      border-right-color: var(--fill-color);\n",
              "      border-top-color: var(--fill-color);\n",
              "    }\n",
              "    60% {\n",
              "      border-color: transparent;\n",
              "      border-right-color: var(--fill-color);\n",
              "    }\n",
              "    80% {\n",
              "      border-color: transparent;\n",
              "      border-right-color: var(--fill-color);\n",
              "      border-bottom-color: var(--fill-color);\n",
              "    }\n",
              "    90% {\n",
              "      border-color: transparent;\n",
              "      border-bottom-color: var(--fill-color);\n",
              "    }\n",
              "  }\n",
              "</style>\n",
              "\n",
              "  <script>\n",
              "    async function quickchart(key) {\n",
              "      const quickchartButtonEl =\n",
              "        document.querySelector('#' + key + ' button');\n",
              "      quickchartButtonEl.disabled = true;  // To prevent multiple clicks.\n",
              "      quickchartButtonEl.classList.add('colab-df-spinner');\n",
              "      try {\n",
              "        const charts = await google.colab.kernel.invokeFunction(\n",
              "            'suggestCharts', [key], {});\n",
              "      } catch (error) {\n",
              "        console.error('Error during call to suggestCharts:', error);\n",
              "      }\n",
              "      quickchartButtonEl.classList.remove('colab-df-spinner');\n",
              "      quickchartButtonEl.classList.add('colab-df-quickchart-complete');\n",
              "    }\n",
              "    (() => {\n",
              "      let quickchartButtonEl =\n",
              "        document.querySelector('#df-e116cff5-2f18-4fcb-9d16-9866c3063eb2 button');\n",
              "      quickchartButtonEl.style.display =\n",
              "        google.colab.kernel.accessAllowed ? 'block' : 'none';\n",
              "    })();\n",
              "  </script>\n",
              "</div>\n",
              "\n",
              "    </div>\n",
              "  </div>\n"
            ],
            "application/vnd.google.colaboratory.intrinsic+json": {
              "type": "dataframe",
              "variable_name": "df",
              "summary": "{\n  \"name\": \"df\",\n  \"rows\": 770,\n  \"fields\": [\n    {\n      \"column\": \"Sex\",\n      \"properties\": {\n        \"dtype\": \"number\",\n        \"std\": 0,\n        \"min\": 0,\n        \"max\": 1,\n        \"num_unique_values\": 2,\n        \"samples\": [\n          1,\n          0\n        ],\n        \"semantic_type\": \"\",\n        \"description\": \"\"\n      }\n    },\n    {\n      \"column\": \"School Code\",\n      \"properties\": {\n        \"dtype\": \"number\",\n        \"std\": 2,\n        \"min\": 1,\n        \"max\": 11,\n        \"num_unique_values\": 11,\n        \"samples\": [\n          6,\n          1\n        ],\n        \"semantic_type\": \"\",\n        \"description\": \"\"\n      }\n    },\n    {\n      \"column\": \"Playing Years\",\n      \"properties\": {\n        \"dtype\": \"number\",\n        \"std\": 1,\n        \"min\": 0,\n        \"max\": 4,\n        \"num_unique_values\": 5,\n        \"samples\": [\n          0,\n          4\n        ],\n        \"semantic_type\": \"\",\n        \"description\": \"\"\n      }\n    },\n    {\n      \"column\": \"Playing Often\",\n      \"properties\": {\n        \"dtype\": \"number\",\n        \"std\": 1,\n        \"min\": 0,\n        \"max\": 5,\n        \"num_unique_values\": 6,\n        \"samples\": [\n          2,\n          3\n        ],\n        \"semantic_type\": \"\",\n        \"description\": \"\"\n      }\n    },\n    {\n      \"column\": \"Playing Hours\",\n      \"properties\": {\n        \"dtype\": \"number\",\n        \"std\": 1,\n        \"min\": 0,\n        \"max\": 5,\n        \"num_unique_values\": 6,\n        \"samples\": [\n          1,\n          0\n        ],\n        \"semantic_type\": \"\",\n        \"description\": \"\"\n      }\n    },\n    {\n      \"column\": \"Playing Games\",\n      \"properties\": {\n        \"dtype\": \"number\",\n        \"std\": 0,\n        \"min\": 0,\n        \"max\": 2,\n        \"num_unique_values\": 3,\n        \"samples\": [\n          1,\n          0\n        ],\n        \"semantic_type\": \"\",\n        \"description\": \"\"\n      }\n    },\n    {\n      \"column\": \"Parent Revenue\",\n      \"properties\": {\n        \"dtype\": \"number\",\n        \"std\": 1,\n        \"min\": 0,\n        \"max\": 4,\n        \"num_unique_values\": 5,\n        \"samples\": [\n          1,\n          0\n        ],\n        \"semantic_type\": \"\",\n        \"description\": \"\"\n      }\n    },\n    {\n      \"column\": \"Father Education\",\n      \"properties\": {\n        \"dtype\": \"number\",\n        \"std\": 1,\n        \"min\": 0,\n        \"max\": 6,\n        \"num_unique_values\": 7,\n        \"samples\": [\n          4,\n          3\n        ],\n        \"semantic_type\": \"\",\n        \"description\": \"\"\n      }\n    },\n    {\n      \"column\": \"Mother Education\",\n      \"properties\": {\n        \"dtype\": \"number\",\n        \"std\": 1,\n        \"min\": 0,\n        \"max\": 6,\n        \"num_unique_values\": 7,\n        \"samples\": [\n          5,\n          3\n        ],\n        \"semantic_type\": \"\",\n        \"description\": \"\"\n      }\n    },\n    {\n      \"column\": \"Grade\",\n      \"properties\": {\n        \"dtype\": \"category\",\n        \"num_unique_values\": 104,\n        \"samples\": [\n          \"68\",\n          \"92.5\"\n        ],\n        \"semantic_type\": \"\",\n        \"description\": \"\"\n      }\n    }\n  ]\n}"
            }
          },
          "metadata": {},
          "execution_count": 87
        }
      ]
    },
    {
      "cell_type": "markdown",
      "source": [
        "# Informasi Data"
      ],
      "metadata": {
        "id": "hX88utT1vTOD"
      }
    },
    {
      "cell_type": "code",
      "source": [
        "df.info()"
      ],
      "metadata": {
        "colab": {
          "base_uri": "https://localhost:8080/"
        },
        "id": "bLdDETwU-N08",
        "outputId": "f98d33bb-a806-40a1-ab5f-10680d0e41d3"
      },
      "execution_count": 88,
      "outputs": [
        {
          "output_type": "stream",
          "name": "stdout",
          "text": [
            "<class 'pandas.core.frame.DataFrame'>\n",
            "RangeIndex: 770 entries, 0 to 769\n",
            "Data columns (total 10 columns):\n",
            " #   Column            Non-Null Count  Dtype \n",
            "---  ------            --------------  ----- \n",
            " 0   Sex               770 non-null    int64 \n",
            " 1   School Code       770 non-null    int64 \n",
            " 2   Playing Years     770 non-null    int64 \n",
            " 3   Playing Often     770 non-null    int64 \n",
            " 4   Playing Hours     770 non-null    int64 \n",
            " 5   Playing Games     770 non-null    int64 \n",
            " 6   Parent Revenue    770 non-null    int64 \n",
            " 7   Father Education  770 non-null    int64 \n",
            " 8   Mother Education  770 non-null    int64 \n",
            " 9   Grade             770 non-null    object\n",
            "dtypes: int64(9), object(1)\n",
            "memory usage: 60.3+ KB\n"
          ]
        }
      ]
    },
    {
      "cell_type": "markdown",
      "source": [
        "# Menghitung jumlah kemunculan kode sekolah berbeda"
      ],
      "metadata": {
        "id": "mXcNi-1pvh5O"
      }
    },
    {
      "cell_type": "markdown",
      "source": [
        "responden paling banyak adalah sekolah dengan kode nomor 4"
      ],
      "metadata": {
        "id": "iIPWJhW-wZh7"
      }
    },
    {
      "cell_type": "code",
      "source": [
        "kolom_tertentu = \"School Code\"\n",
        "if kolom_tertentu in df.columns:\n",
        "    print(f\"\\nMenghitung jumlah kemunculan nilai unik dalam kolom '{kolom_tertentu}':\")\n",
        "    print(df[kolom_tertentu].value_counts())\n",
        "else:\n",
        "    print(f\"\\nKolom '{kolom_tertentu}' tidak ditemukan dalam dataset.\")"
      ],
      "metadata": {
        "colab": {
          "base_uri": "https://localhost:8080/"
        },
        "id": "PotLXTT3-Y3A",
        "outputId": "d2e6b31d-4857-4ca8-c721-430ac08a68ea"
      },
      "execution_count": 89,
      "outputs": [
        {
          "output_type": "stream",
          "name": "stdout",
          "text": [
            "\n",
            "Menghitung jumlah kemunculan nilai unik dalam kolom 'School Code':\n",
            "School Code\n",
            "4     148\n",
            "8     140\n",
            "1     112\n",
            "2     106\n",
            "3      66\n",
            "9      50\n",
            "7      41\n",
            "5      34\n",
            "10     32\n",
            "6      21\n",
            "11     20\n",
            "Name: count, dtype: int64\n"
          ]
        }
      ]
    },
    {
      "cell_type": "markdown",
      "source": [
        "# Menghitung rata-rata waktu bermain game"
      ],
      "metadata": {
        "id": "SouZgqUWvxOG"
      }
    },
    {
      "cell_type": "code",
      "source": [
        "print(\"\\nMenghitung rata-rata dengan df.mean():\")\n",
        "print(df.mean(numeric_only=True))"
      ],
      "metadata": {
        "colab": {
          "base_uri": "https://localhost:8080/"
        },
        "id": "GOhV-igvMg6v",
        "outputId": "14d7c9b9-e05d-46d8-b00c-08cef7805ad0"
      },
      "execution_count": 90,
      "outputs": [
        {
          "output_type": "stream",
          "name": "stdout",
          "text": [
            "\n",
            "Menghitung rata-rata dengan df.mean():\n",
            "Sex                 0.498701\n",
            "School Code         4.944156\n",
            "Playing Years       1.584416\n",
            "Playing Often       2.242857\n",
            "Playing Hours       1.488312\n",
            "Playing Games       0.706494\n",
            "Parent Revenue      1.837662\n",
            "Father Education    3.718182\n",
            "Mother Education    3.410390\n",
            "dtype: float64\n"
          ]
        }
      ]
    },
    {
      "cell_type": "markdown",
      "source": [
        "# Menghitung nilai tengah dari data waktu bermain game, pendapatan orangtua, dan didikan orangtua"
      ],
      "metadata": {
        "id": "x1xJgGSgxGU0"
      }
    },
    {
      "cell_type": "markdown",
      "source": [
        "\n",
        "\n",
        "1.  Median dari kolom ini adalah 1.0, yang berarti bahwa separuh siswa bermain game kurang dari atau sama dengan 1 jam, sementara separuh lainnya bermain lebih dari 1 jam.\n",
        "2.  pendapatan orang tua siswa dari median data ini adalah 2.0, yang menunjukkan bahwa separuh orang tua memiliki pendapatan di bawah atau sama dengan kategori 2, sementara separuh lainnya memiliki pendapatan di atas kategori tersebut.\n",
        "1.  tingkat pendidikan ayah dan ibu, Median untuk ayah adalah 4.0 dan untuk ibu adalah 3.0, yang mengindikasikan bahwa tingkat pendidikan ayah umumnya lebih tinggi dibanding ibu dalam dataset ini.\n",
        "\n",
        "\n",
        "\n",
        "\n"
      ],
      "metadata": {
        "id": "vleALDhuyNmp"
      }
    },
    {
      "cell_type": "code",
      "source": [
        "print(\"\\nMenghitung median dengan df.median():\")\n",
        "print(df.median(numeric_only=True))"
      ],
      "metadata": {
        "colab": {
          "base_uri": "https://localhost:8080/"
        },
        "id": "D5JzyXY9NC5Z",
        "outputId": "849323d2-a21c-42ed-de09-c1d78eca57f0"
      },
      "execution_count": 91,
      "outputs": [
        {
          "output_type": "stream",
          "name": "stdout",
          "text": [
            "\n",
            "Menghitung median dengan df.median():\n",
            "Sex                 0.0\n",
            "School Code         4.0\n",
            "Playing Years       1.0\n",
            "Playing Often       2.0\n",
            "Playing Hours       1.0\n",
            "Playing Games       1.0\n",
            "Parent Revenue      2.0\n",
            "Father Education    4.0\n",
            "Mother Education    3.0\n",
            "dtype: float64\n"
          ]
        }
      ]
    },
    {
      "cell_type": "markdown",
      "source": [
        "# Menghitung Standar Devisiasi"
      ],
      "metadata": {
        "id": "w276DfLJ0XfG"
      }
    },
    {
      "cell_type": "markdown",
      "source": [
        "Perhitungan standar deviasi mengukur variasi data. Playing Hours (1.34) memiliki variasi sedang, menunjukkan perbedaan kebiasaan bermain antar siswa. Parent Revenue (1.06) memiliki variasi rendah, menandakan sebagian besar pendapatan orang tua tidak terlalu jauh dari rata-rata. Father dan Mother Education (1.17) juga menunjukkan variasi sedang/imbang dalam tingkat pendidikan orang tua."
      ],
      "metadata": {
        "id": "tsTBAd6i0cm-"
      }
    },
    {
      "cell_type": "code",
      "source": [
        "print(\"\\nMenghitung standar deviasi dengan df.std():\")\n",
        "print(df.std(numeric_only=True))"
      ],
      "metadata": {
        "colab": {
          "base_uri": "https://localhost:8080/"
        },
        "id": "Y8xEtZ-nNKb8",
        "outputId": "972ee60d-7991-423d-f92c-fc1c976b37d9"
      },
      "execution_count": 92,
      "outputs": [
        {
          "output_type": "stream",
          "name": "stdout",
          "text": [
            "\n",
            "Menghitung standar deviasi dengan df.std():\n",
            "Sex                 0.500323\n",
            "School Code         2.999913\n",
            "Playing Years       1.407306\n",
            "Playing Often       1.923635\n",
            "Playing Hours       1.337853\n",
            "Playing Games       0.458509\n",
            "Parent Revenue      1.064077\n",
            "Father Education    1.171756\n",
            "Mother Education    1.176447\n",
            "dtype: float64\n"
          ]
        }
      ]
    },
    {
      "cell_type": "markdown",
      "source": [
        "# Menghitung Korelasi Antar Kolom Numerik Dalam Data Yang Merepresentasikan Hubungannya dengan Capaian Siswa"
      ],
      "metadata": {
        "id": "_ZRRZUYf1A3_"
      }
    },
    {
      "cell_type": "code",
      "source": [
        "print(\"\\nMenghitung korelasi antar kolom numerik dengan df.corr():\")\n",
        "print(df.corr(numeric_only=True))"
      ],
      "metadata": {
        "colab": {
          "base_uri": "https://localhost:8080/"
        },
        "id": "f-_qhUCTNYBT",
        "outputId": "3717219d-0b13-4494-aece-5af408e3a59d"
      },
      "execution_count": 93,
      "outputs": [
        {
          "output_type": "stream",
          "name": "stdout",
          "text": [
            "\n",
            "Menghitung korelasi antar kolom numerik dengan df.corr():\n",
            "                       Sex  School Code  Playing Years  Playing Often  \\\n",
            "Sex               1.000000     0.003850       0.388920       0.164492   \n",
            "School Code       0.003850     1.000000      -0.073268      -0.109867   \n",
            "Playing Years     0.388920    -0.073268       1.000000       0.437947   \n",
            "Playing Often     0.164492    -0.109867       0.437947       1.000000   \n",
            "Playing Hours     0.418638    -0.111136       0.749567       0.428329   \n",
            "Playing Games     0.344120    -0.149015       0.725660       0.754702   \n",
            "Parent Revenue    0.105856    -0.234231       0.142460       0.074557   \n",
            "Father Education  0.018229     0.115377       0.042440       0.006750   \n",
            "Mother Education  0.016372     0.102671       0.070159       0.030028   \n",
            "\n",
            "                  Playing Hours  Playing Games  Parent Revenue  \\\n",
            "Sex                    0.418638       0.344120        0.105856   \n",
            "School Code           -0.111136      -0.149015       -0.234231   \n",
            "Playing Years          0.749567       0.725660        0.142460   \n",
            "Playing Often          0.428329       0.754702        0.074557   \n",
            "Playing Hours          1.000000       0.721529        0.165373   \n",
            "Playing Games          0.721529       1.000000        0.120771   \n",
            "Parent Revenue         0.165373       0.120771        1.000000   \n",
            "Father Education      -0.015791      -0.025876        0.052953   \n",
            "Mother Education       0.011314       0.001803        0.041862   \n",
            "\n",
            "                  Father Education  Mother Education  \n",
            "Sex                       0.018229          0.016372  \n",
            "School Code               0.115377          0.102671  \n",
            "Playing Years             0.042440          0.070159  \n",
            "Playing Often             0.006750          0.030028  \n",
            "Playing Hours            -0.015791          0.011314  \n",
            "Playing Games            -0.025876          0.001803  \n",
            "Parent Revenue            0.052953          0.041862  \n",
            "Father Education          1.000000          0.571710  \n",
            "Mother Education          0.571710          1.000000  \n"
          ]
        }
      ]
    },
    {
      "cell_type": "markdown",
      "source": [
        "# Visualisasi Data Dari Hasil Analisis"
      ],
      "metadata": {
        "id": "mKryUARG2ET1"
      }
    },
    {
      "cell_type": "code",
      "source": [
        "import pandas as pd\n",
        "import matplotlib.pyplot as plt\n",
        "import seaborn as sns\n",
        "\n",
        "df = pd.read_csv(\"/content/sample_data/gameandgrade.csv\")\n",
        "\n",
        "print(df.columns)\n",
        "\n",
        "df[\"Playing Hours\"] = pd.to_numeric(df[\"Playing Hours\"], errors=\"coerce\")\n",
        "df[\"Grade\"] = pd.to_numeric(df[\"Grade\"], errors=\"coerce\")\n",
        "\n",
        "plt.figure(figsize=(8, 5))\n",
        "df_grouped = df.groupby(\"Playing Hours\")[\"Grade\"].mean()\n",
        "sns.barplot(x=df_grouped.index, y=df_grouped.values, palette=\"coolwarm\")\n",
        "\n",
        "plt.title(\"Rata-rata Nilai Berdasarkan Waktu Bermain\")\n",
        "plt.xlabel(\"Waktu Bermain (Jam)\")\n",
        "plt.ylabel(\"Rata-rata Nilai\")\n",
        "plt.show()\n",
        "\n",
        "plt.figure(figsize=(8, 5))\n",
        "sns.scatterplot(x=df[\"Playing Hours\"], y=df[\"Grade\"], alpha=0.6, color=\"blue\")\n",
        "\n",
        "plt.title(\"Hubungan Waktu Bermain dengan Nilai\")\n",
        "plt.xlabel(\"Waktu Bermain (Jam)\")\n",
        "plt.ylabel(\"Nilai Siswa\")\n",
        "plt.show()\n",
        "\n",
        "plt.figure(figsize=(8, 5))\n",
        "sns.boxplot(x=df[\"Playing Hours\"], y=df[\"Grade\"], palette=\"Set2\")\n",
        "\n",
        "plt.title(\"Distribusi Nilai Berdasarkan Waktu Bermain\")\n",
        "plt.xlabel(\"Waktu Bermain (Jam)\")\n",
        "plt.ylabel(\"Nilai Siswa\")\n",
        "plt.show()\n"
      ],
      "metadata": {
        "colab": {
          "base_uri": "https://localhost:8080/",
          "height": 1000
        },
        "id": "ZamRaWmwhZEt",
        "outputId": "60374187-9bb1-44a0-e808-ea059617d668"
      },
      "execution_count": 102,
      "outputs": [
        {
          "output_type": "stream",
          "name": "stdout",
          "text": [
            "Index(['Sex', 'School Code', 'Playing Years', 'Playing Often', 'Playing Hours',\n",
            "       'Playing Games', 'Parent Revenue', 'Father Education',\n",
            "       'Mother Education', 'Grade'],\n",
            "      dtype='object')\n"
          ]
        },
        {
          "output_type": "stream",
          "name": "stderr",
          "text": [
            "<ipython-input-102-bc0fe4f26e34>:19: FutureWarning: \n",
            "\n",
            "Passing `palette` without assigning `hue` is deprecated and will be removed in v0.14.0. Assign the `x` variable to `hue` and set `legend=False` for the same effect.\n",
            "\n",
            "  sns.barplot(x=df_grouped.index, y=df_grouped.values, palette=\"coolwarm\")\n",
            "/usr/local/lib/python3.11/dist-packages/IPython/core/pylabtools.py:151: UserWarning: Glyph 128202 (\\N{BAR CHART}) missing from font(s) DejaVu Sans.\n",
            "  fig.canvas.print_figure(bytes_io, **kw)\n"
          ]
        },
        {
          "output_type": "display_data",
          "data": {
            "text/plain": [
              "<Figure size 800x500 with 1 Axes>"
            ],
            "image/png": "[encoded data removed]"
          },
          "metadata": {}
        },
        {
          "output_type": "stream",
          "name": "stderr",
          "text": [
            "/usr/local/lib/python3.11/dist-packages/IPython/core/pylabtools.py:151: UserWarning: Glyph 128200 (\\N{CHART WITH UPWARDS TREND}) missing from font(s) DejaVu Sans.\n",
            "  fig.canvas.print_figure(bytes_io, **kw)\n"
          ]
        },
        {
          "output_type": "display_data",
          "data": {
            "text/plain": [
              "<Figure size 800x500 with 1 Axes>"
            ],
            "image/png": "[encoded data removed]"
          },
          "metadata": {}
        },
        {
          "output_type": "stream",
          "name": "stderr",
          "text": [
            "<ipython-input-102-bc0fe4f26e34>:37: FutureWarning: \n",
            "\n",
            "Passing `palette` without assigning `hue` is deprecated and will be removed in v0.14.0. Assign the `x` variable to `hue` and set `legend=False` for the same effect.\n",
            "\n",
            "  sns.boxplot(x=df[\"Playing Hours\"], y=df[\"Grade\"], palette=\"Set2\")\n",
            "/usr/local/lib/python3.11/dist-packages/IPython/core/pylabtools.py:151: UserWarning: Glyph 128230 (\\N{PACKAGE}) missing from font(s) DejaVu Sans.\n",
            "  fig.canvas.print_figure(bytes_io, **kw)\n"
          ]
        },
        {
          "output_type": "display_data",
          "data": {
            "text/plain": [
              "<Figure size 800x500 with 1 Axes>"
            ],
            "image/png": "[encoded data removed]"
          },
          "metadata": {}
        }
      ]
    },
    {
      "cell_type": "markdown",
      "source": [
        "# Kesimpulan"
      ],
      "metadata": {
        "id": "rP667aBa2cRX"
      }
    },
    {
      "cell_type": "markdown",
      "source": [
        "Untuk mengetahui dampak bermain game terhadap nilai akademik, kita perlu data nilai siswa dan menghitung korelasinya dengan variabel bermain game. dari pola korelasi yang ada, dapat diasumsikan bahwa siswa yang bermain lebih lama cenderung memiliki kebiasaan bermain yang lebih intens. Jika ini berdampak pada waktu belajar, maka terdapat hubungan negatif dengan capaian akademik siswa."
      ],
      "metadata": {
        "id": "GWj6KV0M2hap"
      }
    }
  ]
}